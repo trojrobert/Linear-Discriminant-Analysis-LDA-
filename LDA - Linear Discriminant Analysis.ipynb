{
 "cells": [
  {
   "cell_type": "code",
   "execution_count": 21,
   "metadata": {},
   "outputs": [],
   "source": [
    "#importing dependencies\n",
    "import pandas as pd\n",
    "import numpy as np \n",
    "import matplotlib.pyplot as plt "
   ]
  },
  {
   "cell_type": "code",
   "execution_count": 22,
   "metadata": {},
   "outputs": [
    {
     "data": {
      "text/plain": [
       "array([[1.423e+01, 1.710e+00, 2.430e+00, ..., 1.040e+00, 3.920e+00,\n",
       "        1.065e+03],\n",
       "       [1.320e+01, 1.780e+00, 2.140e+00, ..., 1.050e+00, 3.400e+00,\n",
       "        1.050e+03],\n",
       "       [1.316e+01, 2.360e+00, 2.670e+00, ..., 1.030e+00, 3.170e+00,\n",
       "        1.185e+03],\n",
       "       ...,\n",
       "       [1.327e+01, 4.280e+00, 2.260e+00, ..., 5.900e-01, 1.560e+00,\n",
       "        8.350e+02],\n",
       "       [1.317e+01, 2.590e+00, 2.370e+00, ..., 6.000e-01, 1.620e+00,\n",
       "        8.400e+02],\n",
       "       [1.413e+01, 4.100e+00, 2.740e+00, ..., 6.100e-01, 1.600e+00,\n",
       "        5.600e+02]])"
      ]
     },
     "execution_count": 22,
     "metadata": {},
     "output_type": "execute_result"
    }
   ],
   "source": [
    "#import dataset \n",
    "dataset = pd.read_csv('Wine.csv')\n",
    "X = dataset.iloc[:, 0:13].values  \n",
    "y = dataset.iloc[:, 13].values\n",
    "X"
   ]
  },
  {
   "cell_type": "code",
   "execution_count": 23,
   "metadata": {},
   "outputs": [
    {
     "data": {
      "text/plain": [
       "array([[1.364e+01, 3.100e+00, 2.560e+00, ..., 9.600e-01, 3.360e+00,\n",
       "        8.450e+02],\n",
       "       [1.260e+01, 2.460e+00, 2.200e+00, ..., 7.300e-01, 1.580e+00,\n",
       "        6.950e+02],\n",
       "       [1.196e+01, 1.090e+00, 2.300e+00, ..., 9.900e-01, 3.130e+00,\n",
       "        8.860e+02],\n",
       "       ...,\n",
       "       [1.242e+01, 1.610e+00, 2.190e+00, ..., 1.060e+00, 2.960e+00,\n",
       "        3.450e+02],\n",
       "       [1.390e+01, 1.680e+00, 2.120e+00, ..., 9.100e-01, 3.330e+00,\n",
       "        9.850e+02],\n",
       "       [1.416e+01, 2.510e+00, 2.480e+00, ..., 6.200e-01, 1.710e+00,\n",
       "        6.600e+02]])"
      ]
     },
     "execution_count": 23,
     "metadata": {},
     "output_type": "execute_result"
    }
   ],
   "source": [
    "#Split the dataset \n",
    "from sklearn.model_selection import train_test_split \n",
    "train_X , test_X, train_y, test_y = train_test_split(X, y, test_size = 0.25, random_state = 0)\n",
    "train_X"
   ]
  },
  {
   "cell_type": "code",
   "execution_count": 24,
   "metadata": {},
   "outputs": [
    {
     "data": {
      "text/plain": [
       "array([[ 0.79996869,  0.63400362,  0.71783316, ...,  0.05445565,\n",
       "         1.0713277 ,  0.31500451],\n",
       "       [-0.49875982,  0.06171955, -0.61072701, ..., -0.93473577,\n",
       "        -1.39249704, -0.18138885],\n",
       "       [-1.29797736, -1.16332605, -0.24168252, ...,  0.18348062,\n",
       "         0.75296832,  0.45068536],\n",
       "       ...,\n",
       "       [-0.72353975, -0.69834524, -0.64763146, ...,  0.48453887,\n",
       "         0.51765922, -1.33964004],\n",
       "       [ 1.12465081, -0.63575167, -0.90596261, ..., -0.16058596,\n",
       "         1.02980256,  0.77830498],\n",
       "       [ 1.44933294,  0.10642924,  0.42259757, ..., -1.40782731,\n",
       "        -1.21255479, -0.29721397]])"
      ]
     },
     "execution_count": 24,
     "metadata": {},
     "output_type": "execute_result"
    }
   ],
   "source": [
    "#feature scaling \n",
    "from sklearn.preprocessing import StandardScaler\n",
    "Scale_X = StandardScaler()\n",
    "train_X = Scale_X.fit_transform(train_X)\n",
    "test_X = Scale_X.transform(test_X)\n",
    "train_X"
   ]
  },
  {
   "cell_type": "code",
   "execution_count": 25,
   "metadata": {},
   "outputs": [
    {
     "data": {
      "text/plain": [
       "array([[-3.75722986e+00,  1.78224173e+00],\n",
       "       [ 3.71779979e+00,  8.55757484e-01],\n",
       "       [-4.41722893e-02, -2.02249034e+00],\n",
       "       [ 3.50295061e+00,  1.99910076e+00],\n",
       "       [-3.87566163e+00,  2.65077482e+00],\n",
       "       [ 3.31635950e+00,  7.26729526e-01],\n",
       "       [ 3.76757806e+00,  1.03585429e+00],\n",
       "       [-3.50642318e+00,  1.01134789e-01],\n",
       "       [ 5.56617679e+00,  2.31052117e+00],\n",
       "       [-5.52600002e+00,  6.92702501e-01],\n",
       "       [ 3.34933278e-01, -3.89801248e+00],\n",
       "       [ 4.83234812e+00,  3.19745682e+00],\n",
       "       [ 3.43511567e+00,  9.59123009e-01],\n",
       "       [-1.06452054e+00, -2.32005170e+00],\n",
       "       [ 3.47410738e+00,  6.35730414e-01],\n",
       "       [ 5.06710351e+00,  2.38898005e+00],\n",
       "       [-2.95021113e+00,  1.13904083e+00],\n",
       "       [ 1.87126516e+00, -4.32025549e-01],\n",
       "       [ 3.96376090e+00, -1.85802042e-01],\n",
       "       [-9.49159879e-01, -3.32074700e+00],\n",
       "       [ 1.84114933e+00, -5.83464878e-01],\n",
       "       [ 3.17380882e+00,  1.49403616e+00],\n",
       "       [-4.69174963e-01, -1.18843006e+00],\n",
       "       [-4.01401200e+00,  1.22643116e+00],\n",
       "       [ 2.41908539e+00, -2.41633744e+00],\n",
       "       [-1.19274638e+00, -2.30261770e+00],\n",
       "       [ 2.54081586e+00, -1.08324295e+00],\n",
       "       [-1.62865764e+00,  4.75402524e-01],\n",
       "       [-5.44639445e+00,  2.02327978e+00],\n",
       "       [-2.21713741e+00, -2.38188007e+00],\n",
       "       [-1.88880077e+00, -2.21613035e+00],\n",
       "       [ 5.47159839e+00,  1.51735664e+00],\n",
       "       [ 5.71896935e+00,  1.77938703e+00],\n",
       "       [ 1.21439339e+00, -3.90180089e+00],\n",
       "       [-1.10951972e+00, -3.10038781e+00],\n",
       "       [ 7.91493841e-02, -3.64486676e+00],\n",
       "       [ 5.07276956e+00,  2.58901991e+00],\n",
       "       [ 4.16583730e+00,  3.82003914e-01],\n",
       "       [-3.81161619e+00,  6.82242585e-01],\n",
       "       [ 5.15806933e+00,  2.18938472e+00],\n",
       "       [-7.05565940e-02, -3.12032063e+00],\n",
       "       [ 5.49782271e-01, -2.58183073e+00],\n",
       "       [ 4.81777377e-01, -1.94621769e+00],\n",
       "       [-9.47271531e-01, -2.69145221e+00],\n",
       "       [ 2.47677384e-01, -3.27442224e+00],\n",
       "       [-4.66412560e+00,  2.10417874e+00],\n",
       "       [-2.74657160e+00,  1.22618405e+00],\n",
       "       [-9.70323535e-01, -2.65613212e+00],\n",
       "       [-6.03529447e+00,  2.05320991e+00],\n",
       "       [ 4.27955550e+00,  1.22404709e+00],\n",
       "       [-3.56102240e+00,  3.64602762e-01],\n",
       "       [ 4.63713595e+00,  1.25794961e+00],\n",
       "       [-4.15399940e+00,  2.34532649e-01],\n",
       "       [-3.89495884e+00,  2.80806973e+00],\n",
       "       [-3.85565158e-01, -2.23125362e+00],\n",
       "       [-5.10121965e+00,  2.19942215e+00],\n",
       "       [-1.24482053e+00, -2.87881891e+00],\n",
       "       [ 1.40603770e-01, -2.74122412e+00],\n",
       "       [-4.94831045e+00,  3.60101959e+00],\n",
       "       [ 4.18699949e+00,  2.39822472e+00],\n",
       "       [ 4.12040856e-01, -2.02267161e+00],\n",
       "       [-5.09372053e+00,  2.90914396e+00],\n",
       "       [ 6.06902767e-01,  1.48754279e-01],\n",
       "       [ 1.18189699e+00, -2.82484745e+00],\n",
       "       [-6.04642183e-01, -2.10172486e+00],\n",
       "       [ 2.59531823e+00,  1.01090918e-01],\n",
       "       [-4.19739748e+00,  2.13715873e+00],\n",
       "       [ 5.12929171e+00,  5.84290625e-01],\n",
       "       [ 5.73804704e+00,  1.40897438e-01],\n",
       "       [-6.16151965e+00,  3.38985011e+00],\n",
       "       [-5.40944408e+00,  1.61438995e+00],\n",
       "       [ 1.40002502e+00, -2.52898156e+00],\n",
       "       [ 4.89726201e+00,  2.33040423e+00],\n",
       "       [-4.34535646e+00,  1.83689601e+00],\n",
       "       [-3.87338529e+00,  2.00056647e+00],\n",
       "       [-3.23778354e-02, -2.60462718e+00],\n",
       "       [-3.80595167e-01, -1.77179897e+00],\n",
       "       [-3.43965245e+00,  2.49051650e-02],\n",
       "       [-4.30472611e+00,  2.30750404e+00],\n",
       "       [-2.82799490e+00,  1.02297286e+00],\n",
       "       [ 4.24759571e+00,  3.48453506e+00],\n",
       "       [-1.04157594e+00, -1.35398866e+00],\n",
       "       [-4.90243969e+00,  1.17493343e+00],\n",
       "       [-1.55623962e+00, -2.18578346e+00],\n",
       "       [ 3.24771691e+00,  1.16098759e+00],\n",
       "       [-5.49376373e+00,  2.29563008e+00],\n",
       "       [-6.66169522e-01, -2.63422660e+00],\n",
       "       [ 4.05102186e+00,  1.41372952e-01],\n",
       "       [ 4.62722563e+00,  2.48805918e-03],\n",
       "       [-3.73008060e+00,  1.55110411e+00],\n",
       "       [-3.36731781e+00, -1.33149760e-01],\n",
       "       [ 4.14137298e+00,  4.82025770e-01],\n",
       "       [-4.06277298e+00,  2.92750009e+00],\n",
       "       [ 4.20381962e+00,  9.27890525e-02],\n",
       "       [ 2.34299794e-02, -3.76267700e+00],\n",
       "       [-3.23283004e+00,  1.33740625e+00],\n",
       "       [-4.01172391e+00,  8.43188286e-01],\n",
       "       [-4.84632761e-01, -2.74258911e+00],\n",
       "       [-4.34777396e+00,  2.21893150e+00],\n",
       "       [ 4.44247788e+00,  1.96593033e+00],\n",
       "       [ 9.98121758e-01, -3.05514439e+00],\n",
       "       [ 4.88170752e+00,  1.16732643e+00],\n",
       "       [-3.70161805e+00,  2.40654674e-01],\n",
       "       [ 3.43476601e+00,  9.77510494e-01],\n",
       "       [ 4.31507993e+00,  1.75850675e+00],\n",
       "       [ 4.73718654e+00,  2.26409768e+00],\n",
       "       [-3.47148953e+00,  9.35839032e-01],\n",
       "       [-1.52966148e+00, -3.71309507e+00],\n",
       "       [ 4.16342421e-01, -2.95146044e+00],\n",
       "       [-6.40748609e-01, -2.42607076e+00],\n",
       "       [-1.57941293e-01, -5.76604933e+00],\n",
       "       [ 5.05146408e+00,  1.89983827e+00],\n",
       "       [ 5.60153152e+00,  2.87029835e+00],\n",
       "       [ 4.72130781e-01, -1.63912574e+00],\n",
       "       [ 9.41821351e-01, -1.57478657e+00],\n",
       "       [-2.47826253e+00,  3.66222939e-02],\n",
       "       [-2.19029985e+00, -1.56623624e+00],\n",
       "       [ 4.81200781e+00,  2.26842207e+00],\n",
       "       [ 5.04448985e+00,  2.80590850e+00],\n",
       "       [-3.72739441e+00,  2.30551011e+00],\n",
       "       [-4.44451381e+00,  2.26536318e+00],\n",
       "       [ 2.81222081e+00,  1.07814395e+00],\n",
       "       [ 3.32507897e-02, -1.94457932e+00],\n",
       "       [ 1.36869831e+00, -8.44875564e-01],\n",
       "       [ 2.83727687e-01, -3.31942191e+00],\n",
       "       [-3.11785783e+00,  1.52018276e+00],\n",
       "       [-2.11030772e+00,  6.65330348e-01],\n",
       "       [-4.19830759e+00,  1.38813629e+00],\n",
       "       [ 1.78310181e+00, -3.79508000e+00],\n",
       "       [-8.22863399e-01, -2.68820697e+00],\n",
       "       [-1.11343805e-01, -3.65200649e+00],\n",
       "       [-4.12626825e+00,  7.27352760e-01],\n",
       "       [ 4.41071788e+00,  3.01534038e+00]])"
      ]
     },
     "execution_count": 25,
     "metadata": {},
     "output_type": "execute_result"
    }
   ],
   "source": [
    "#Applying LDA \n",
    "from sklearn.discriminant_analysis import LinearDiscriminantAnalysis as LDA\n",
    "lda = LDA(n_components= 2)\n",
    "train_X = lda.fit_transform(train_X,train_y)\n",
    "test_X = lda.transform(test_X)\n",
    "train_X"
   ]
  },
  {
   "cell_type": "code",
   "execution_count": 26,
   "metadata": {},
   "outputs": [
    {
     "data": {
      "text/plain": [
       "LogisticRegression(C=1.0, class_weight=None, dual=False, fit_intercept=True,\n",
       "          intercept_scaling=1, max_iter=100, multi_class='ovr', n_jobs=1,\n",
       "          penalty='l2', random_state=0, solver='liblinear', tol=0.0001,\n",
       "          verbose=0, warm_start=False)"
      ]
     },
     "execution_count": 26,
     "metadata": {},
     "output_type": "execute_result"
    }
   ],
   "source": [
    "#Create, fit and train logistic regression model \n",
    "from sklearn.linear_model import LogisticRegression\n",
    "logreg = LogisticRegression(random_state = 0)\n",
    "logreg.fit(train_X,train_y)"
   ]
  },
  {
   "cell_type": "code",
   "execution_count": 27,
   "metadata": {},
   "outputs": [],
   "source": [
    "#Making predictions \n",
    "predicted_y = logreg.predict(test_X)"
   ]
  },
  {
   "cell_type": "code",
   "execution_count": 28,
   "metadata": {},
   "outputs": [
    {
     "data": {
      "text/html": [
       "<div>\n",
       "<style scoped>\n",
       "    .dataframe tbody tr th:only-of-type {\n",
       "        vertical-align: middle;\n",
       "    }\n",
       "\n",
       "    .dataframe tbody tr th {\n",
       "        vertical-align: top;\n",
       "    }\n",
       "\n",
       "    .dataframe thead th {\n",
       "        text-align: right;\n",
       "    }\n",
       "</style>\n",
       "<table border=\"1\" class=\"dataframe\">\n",
       "  <thead>\n",
       "    <tr style=\"text-align: right;\">\n",
       "      <th></th>\n",
       "      <th>Expected</th>\n",
       "      <th>Predicted Score</th>\n",
       "    </tr>\n",
       "  </thead>\n",
       "  <tbody>\n",
       "    <tr>\n",
       "      <th>0</th>\n",
       "      <td>1</td>\n",
       "      <td>1</td>\n",
       "    </tr>\n",
       "    <tr>\n",
       "      <th>1</th>\n",
       "      <td>3</td>\n",
       "      <td>3</td>\n",
       "    </tr>\n",
       "    <tr>\n",
       "      <th>2</th>\n",
       "      <td>2</td>\n",
       "      <td>2</td>\n",
       "    </tr>\n",
       "    <tr>\n",
       "      <th>3</th>\n",
       "      <td>1</td>\n",
       "      <td>1</td>\n",
       "    </tr>\n",
       "    <tr>\n",
       "      <th>4</th>\n",
       "      <td>2</td>\n",
       "      <td>2</td>\n",
       "    </tr>\n",
       "    <tr>\n",
       "      <th>5</th>\n",
       "      <td>2</td>\n",
       "      <td>2</td>\n",
       "    </tr>\n",
       "    <tr>\n",
       "      <th>6</th>\n",
       "      <td>1</td>\n",
       "      <td>1</td>\n",
       "    </tr>\n",
       "    <tr>\n",
       "      <th>7</th>\n",
       "      <td>3</td>\n",
       "      <td>3</td>\n",
       "    </tr>\n",
       "    <tr>\n",
       "      <th>8</th>\n",
       "      <td>2</td>\n",
       "      <td>2</td>\n",
       "    </tr>\n",
       "    <tr>\n",
       "      <th>9</th>\n",
       "      <td>2</td>\n",
       "      <td>2</td>\n",
       "    </tr>\n",
       "  </tbody>\n",
       "</table>\n",
       "</div>"
      ],
      "text/plain": [
       "   Expected  Predicted Score\n",
       "0         1                1\n",
       "1         3                3\n",
       "2         2                2\n",
       "3         1                1\n",
       "4         2                2\n",
       "5         2                2\n",
       "6         1                1\n",
       "7         3                3\n",
       "8         2                2\n",
       "9         2                2"
      ]
     },
     "execution_count": 28,
     "metadata": {},
     "output_type": "execute_result"
    }
   ],
   "source": [
    "#checking the performance of the model \n",
    "logreg_pred_test_df = pd.DataFrame({'Expected':test_y, 'Predicted Score':predicted_y })\n",
    "logreg_pred_test_df.head(10)\n"
   ]
  },
  {
   "cell_type": "code",
   "execution_count": 29,
   "metadata": {},
   "outputs": [
    {
     "data": {
      "text/plain": [
       "array([[16,  0,  0],\n",
       "       [ 0, 21,  0],\n",
       "       [ 0,  0,  8]])"
      ]
     },
     "execution_count": 29,
     "metadata": {},
     "output_type": "execute_result"
    }
   ],
   "source": [
    "#Making confusion matrix \n",
    "from sklearn.metrics import confusion_matrix\n",
    "con_matrix = confusion_matrix(test_y,predicted_y)\n",
    "con_matrix"
   ]
  },
  {
   "cell_type": "code",
   "execution_count": 30,
   "metadata": {},
   "outputs": [
    {
     "data": {
      "image/png": "[encoded data removed]",
      "text/plain": [
       "<matplotlib.figure.Figure at 0x1b0c09cf550>"
      ]
     },
     "metadata": {},
     "output_type": "display_data"
    }
   ],
   "source": [
    "#Visualizing the training set\n",
    "from matplotlib.colors import ListedColormap\n",
    "X_set,y_set = train_X, train_y\n",
    "X1,X2 = np.meshgrid(np.arange(start = X_set[:, 0].min() - 1, stop = X_set[:, 0].max() + 1, step = 0.01),\n",
    "                    np.arange(start = X_set[:, 0].min() - 1, stop = X_set[:, 0].max() + 1, step = 0.01))\n",
    "\n",
    "plt.contourf(X1,X2, logreg.predict(np.array([X1.ravel(),X2.ravel()]).T).reshape(X1.shape), \n",
    "             alpha = 0.75, cmap = ListedColormap(('red','green','blue')))\n",
    "\n",
    "plt.xlim(X1.min(), X1.max())\n",
    "plt.ylim(X2.min(), X2.max())\n",
    "\n",
    "for i,j in enumerate(np.unique(y_set)):\n",
    "    plt.scatter(X_set[y_set == j,0], X_set[y_set == j,1],\n",
    "                c = ListedColormap(('red','green','blue'))(i), label = j)\n",
    "    \n",
    "plt.title('Logistic Regression for training set with LDA')\n",
    "plt.xlabel('LDA 1')\n",
    "plt.ylabel('LDA 2')\n",
    "plt.legend()\n",
    "plt.show()\n"
   ]
  },
  {
   "cell_type": "code",
   "execution_count": 31,
   "metadata": {},
   "outputs": [
    {
     "data": {
      "image/png": "[encoded data removed]",
      "text/plain": [
       "<matplotlib.figure.Figure at 0x1b0bfb17198>"
      ]
     },
     "metadata": {},
     "output_type": "display_data"
    }
   ],
   "source": [
    "#Visualizing the test set\n",
    "from matplotlib.colors import ListedColormap\n",
    "X_set,y_set = test_X, test_y\n",
    "X1,X2 = np.meshgrid(np.arange(start = X_set[:, 0].min() - 1, stop = X_set[:, 0].max() + 1, step = 0.01),\n",
    "                    np.arange(start = X_set[:, 0].min() - 1, stop = X_set[:, 0].max() + 1, step = 0.01))\n",
    "\n",
    "plt.contourf(X1,X2, logreg.predict(np.array([X1.ravel(),X2.ravel()]).T).reshape(X1.shape), \n",
    "             alpha = 0.75, cmap = ListedColormap(('red','green','blue')))\n",
    "\n",
    "plt.xlim(X1.min(), X1.max())\n",
    "plt.ylim(X2.min(), X2.max())\n",
    "\n",
    "for i,j in enumerate(np.unique(y_set)):\n",
    "    plt.scatter(X_set[y_set == j,0], X_set[y_set == j,1],\n",
    "                c = ListedColormap(('red','green','blue'))(i), label = j)\n",
    "    \n",
    "plt.title('Logistic Regression for test set with LDA')\n",
    "plt.xlabel('LDA 1')\n",
    "plt.ylabel('LDA 2')\n",
    "plt.legend()\n",
    "plt.show()"
   ]
  },
  {
   "cell_type": "code",
   "execution_count": null,
   "metadata": {},
   "outputs": [],
   "source": []
  }
 ],
 "metadata": {
  "kernelspec": {
   "display_name": "Python 3",
   "language": "python",
   "name": "python3"
  },
  "language_info": {
   "codemirror_mode": {
    "name": "ipython",
    "version": 3
   },
   "file_extension": ".py",
   "mimetype": "text/x-python",
   "name": "python",
   "nbconvert_exporter": "python",
   "pygments_lexer": "ipython3",
   "version": "3.6.4"
  }
 },
 "nbformat": 4,
 "nbformat_minor": 2
}
